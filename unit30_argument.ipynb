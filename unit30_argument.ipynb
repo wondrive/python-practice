{
 "cells": [
  {
   "cell_type": "markdown",
   "metadata": {},
   "source": [
    "# 1. positional arg\n",
    "1. positional argument (위치 인수): 인수를 순서대로 넣는 방식"
   ]
  },
  {
   "cell_type": "code",
   "execution_count": 3,
   "metadata": {},
   "outputs": [],
   "source": [
    "# 위치 인수\n",
    "def func(a, b, c):\n",
    "    return a, b, c"
   ]
  },
  {
   "cell_type": "code",
   "execution_count": 4,
   "metadata": {},
   "outputs": [
    {
     "data": {
      "text/plain": [
       "(10, 20, 30)"
      ]
     },
     "execution_count": 4,
     "metadata": {},
     "output_type": "execute_result"
    }
   ],
   "source": [
    "func(10, 20, 30)    # positional arg"
   ]
  },
  {
   "cell_type": "code",
   "execution_count": 5,
   "metadata": {},
   "outputs": [
    {
     "data": {
      "text/plain": [
       "(10, 20, 30)"
      ]
     },
     "execution_count": 5,
     "metadata": {},
     "output_type": "execute_result"
    }
   ],
   "source": [
    "x = [10, 20, 30]    # unpacking\n",
    "func(*x)\n",
    "\n",
    "func(*[10, 20, 30]) # 마찬가지로 unpacking"
   ]
  },
  {
   "cell_type": "markdown",
   "metadata": {},
   "source": [
    "- 가변 인수 함수 (variable argument): 인수 개수가 정해지지 않은 함수"
   ]
  },
  {
   "cell_type": "code",
   "execution_count": 8,
   "metadata": {},
   "outputs": [],
   "source": [
    "def func(*args):    # 가변 인수\n",
    "    for arg in args:\n",
    "        print(arg)"
   ]
  },
  {
   "cell_type": "code",
   "execution_count": 11,
   "metadata": {},
   "outputs": [
    {
     "name": "stdout",
     "output_type": "stream",
     "text": [
      "10\n",
      "20\n",
      "30\n",
      "10\n",
      "20\n",
      "30\n"
     ]
    }
   ],
   "source": [
    "# 함수 호출 방법 1\n",
    "func(10, 20, 30)\n",
    "\n",
    "# 함수 호출 방법 2\n",
    "x = [10, 20, 30]\n",
    "func(*x)"
   ]
  },
  {
   "cell_type": "markdown",
   "metadata": {},
   "source": [
    "**단, `def func(*args, a):` 처럼 가변인수가 먼저 나오면 안 됨**"
   ]
  },
  {
   "cell_type": "markdown",
   "metadata": {},
   "source": [
    "# 2. keyword arg\n",
    "- keyword argument (키워드 인수)와 딕셔너리 언패킹"
   ]
  },
  {
   "cell_type": "code",
   "execution_count": 12,
   "metadata": {},
   "outputs": [],
   "source": [
    "def personal_info(name, age, address):\n",
    "    print('이름:', name)\n",
    "    print('나이:', age)\n",
    "    print('주소:', address)"
   ]
  },
  {
   "cell_type": "code",
   "execution_count": 13,
   "metadata": {},
   "outputs": [
    {
     "name": "stdout",
     "output_type": "stream",
     "text": [
      "이름: 김민지\n",
      "나이: 20\n",
      "주소: 서울시 강남구\n"
     ]
    }
   ],
   "source": [
    "x = {'name':'김민지', 'age':20, 'address':'서울시 강남구'}      # 반드시 key는 문자열이어야 함\n",
    "\n",
    "personal_info(**x)  # 딕셔너리 언패킹"
   ]
  },
  {
   "cell_type": "markdown",
   "metadata": {},
   "source": [
    "- 만약 `*`만 사용하면? value가 아닌 key가 나온다."
   ]
  },
  {
   "cell_type": "code",
   "execution_count": 14,
   "metadata": {},
   "outputs": [
    {
     "name": "stdout",
     "output_type": "stream",
     "text": [
      "이름: name\n",
      "나이: age\n",
      "주소: address\n"
     ]
    }
   ],
   "source": [
    "personal_info(*x)"
   ]
  },
  {
   "cell_type": "markdown",
   "metadata": {},
   "source": [
    "- kwargs(키워드 인수)를 사용한 가변인수 함수 만들기"
   ]
  },
  {
   "cell_type": "code",
   "execution_count": 15,
   "metadata": {},
   "outputs": [],
   "source": [
    "def personal_info(**kwargs):    # 가변 키워드인수\n",
    "    for kw, arg in kwargs.items():\n",
    "        print(kw, ':', arg, sep='')"
   ]
  },
  {
   "cell_type": "code",
   "execution_count": 21,
   "metadata": {},
   "outputs": [
    {
     "name": "stdout",
     "output_type": "stream",
     "text": [
      "name:김민지\n",
      "age:20\n",
      "name:강해린\n"
     ]
    }
   ],
   "source": [
    "x = {'name':'김민지', 'age':20}\n",
    "personal_info(**x)\n",
    "personal_info(name='강해린')"
   ]
  },
  {
   "cell_type": "markdown",
   "metadata": {},
   "source": [
    "보통 kwargs에서 특정 키가 있는지 확인 후 사용함:"
   ]
  },
  {
   "cell_type": "code",
   "execution_count": 22,
   "metadata": {},
   "outputs": [],
   "source": [
    "def personal_info(**kwargs):\n",
    "    if 'name' in kwargs:\n",
    "        print(kwargs['name'])\n",
    "    if 'age' in kwargs:\n",
    "        print(kwargs['age'])\n",
    "    if 'address' in kwargs:\n",
    "        print(kwargs['address'])"
   ]
  },
  {
   "cell_type": "markdown",
   "metadata": {},
   "source": [
    "**`*args`(위치 인수)와 `**kwargs`(키워드 인수)의 순서**: 무조건 `def func(*args, **kwargs):`"
   ]
  },
  {
   "cell_type": "markdown",
   "metadata": {},
   "source": [
    "# 연습문제"
   ]
  },
  {
   "cell_type": "code",
   "execution_count": 24,
   "metadata": {},
   "outputs": [
    {
     "name": "stdout",
     "output_type": "stream",
     "text": [
      "높은 점수: 100\n",
      "높은 점수: 91\n"
     ]
    }
   ],
   "source": [
    "# 다음 소스를 완성하여 가장 높은 점수를 구하는 함수 만들기\n",
    "korean, english, mathematics, science = 100, 86, 81, 91\n",
    "\n",
    "def get_max_score(*args):\n",
    "    return max(args)\n",
    "\n",
    "max_score = get_max_score(korean, english, mathematics, science)\n",
    "print('높은 점수:', max_score)\n",
    "\n",
    "max_score = get_max_score(english, science)\n",
    "print('높은 점수:', max_score)"
   ]
  },
  {
   "cell_type": "markdown",
   "metadata": {},
   "source": [
    "# 심사문제  \n",
    "국어, 영어, 수학, 과학 점수를 입력받아,  \n",
    "가장 높은 점수, 가장 낮은 점수, 평균 점수(float)를 출력하시오"
   ]
  },
  {
   "cell_type": "code",
   "execution_count": 31,
   "metadata": {},
   "outputs": [
    {
     "name": "stdout",
     "output_type": "stream",
     "text": [
      "낮은 점수: 73.00, 높은 점수: 92.00, 평균 점수: 84.25\n",
      "낮은 점수: 83.00, 높은 점수: 92.00, 평균 점수: 87.50\n"
     ]
    }
   ],
   "source": [
    "korean, english, mathematics, science = map(int, input().split())\n",
    "\n",
    "def get_min_max_score(*args):\n",
    "    return min(args), max(args)\n",
    "\n",
    "def get_average(**kwargs):\n",
    "    return sum(kwargs.values()) / len(kwargs)\n",
    "\n",
    "min_score, max_score = get_min_max_score(korean, english, mathematics, science)\n",
    "average_score = get_average(korean=korean, english=english, mathematics=mathematics, science=science)\n",
    "print(f'낮은 점수: {min_score:.2f}, 높은 점수: {max_score:.2f}, 평균 점수: {average_score:.2f}')\n",
    "\n",
    "min_score, max_score = get_min_max_score(english, science)\n",
    "average_score = get_average(english=english, science=science)\n",
    "print(f'낮은 점수: {min_score:.2f}, 높은 점수: {max_score:.2f}, 평균 점수: {average_score:.2f}')"
   ]
  }
 ],
 "metadata": {
  "kernelspec": {
   "display_name": "Python 3",
   "language": "python",
   "name": "python3"
  },
  "language_info": {
   "codemirror_mode": {
    "name": "ipython",
    "version": 3
   },
   "file_extension": ".py",
   "mimetype": "text/x-python",
   "name": "python",
   "nbconvert_exporter": "python",
   "pygments_lexer": "ipython3",
   "version": "3.8.2"
  }
 },
 "nbformat": 4,
 "nbformat_minor": 2
}
