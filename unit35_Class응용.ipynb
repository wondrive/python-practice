{
 "cells": [
  {
   "cell_type": "markdown",
   "metadata": {},
   "source": [
    "# 1. 클래스 속성과 인스턴스 속성 알아보기"
   ]
  },
  {
   "cell_type": "markdown",
   "metadata": {},
   "source": [
    "- 클래스 속성 사용하기"
   ]
  },
  {
   "cell_type": "code",
   "execution_count": 4,
   "metadata": {},
   "outputs": [
    {
     "name": "stdout",
     "output_type": "stream",
     "text": [
      "['책', '열쇠']\n",
      "['책', '열쇠']\n"
     ]
    }
   ],
   "source": [
    "class Person:\n",
    "    bag = []\n",
    "\n",
    "    def put_bag(self, stuff):\n",
    "        self.bag.append(stuff)      # 클래스 속성\n",
    "    \n",
    "james = Person()\n",
    "james.put_bag('책')\n",
    "\n",
    "maria = Person()\n",
    "maria.put_bag('열쇠')\n",
    "\n",
    "print(james.bag)\n",
    "print(maria.bag)"
   ]
  },
  {
   "cell_type": "code",
   "execution_count": 2,
   "metadata": {},
   "outputs": [
    {
     "name": "stdout",
     "output_type": "stream",
     "text": [
      "[]\n"
     ]
    }
   ],
   "source": [
    "class Person:\n",
    "    bag = []\n",
    "\n",
    "    def put_bag(self, stuff):\n",
    "        Person.bag.append(stuff)    # 클래스 속성\n",
    "    \n",
    "print(Person.bag)"
   ]
  },
  {
   "cell_type": "markdown",
   "metadata": {},
   "source": [
    "- 인스턴스 속성"
   ]
  },
  {
   "cell_type": "code",
   "execution_count": null,
   "metadata": {},
   "outputs": [],
   "source": [
    "class Person:\n",
    "    def __init__(self, bag):    # 인스턴스 속성\n",
    "        self.bag = bag"
   ]
  },
  {
   "cell_type": "markdown",
   "metadata": {},
   "source": [
    "- 비공개 클래스 속성 사용하기"
   ]
  },
  {
   "cell_type": "code",
   "execution_count": 5,
   "metadata": {},
   "outputs": [
    {
     "name": "stdout",
     "output_type": "stream",
     "text": [
      "10\n"
     ]
    },
    {
     "ename": "AttributeError",
     "evalue": "type object 'Knight' has no attribute '__item_limit'",
     "output_type": "error",
     "traceback": [
      "\u001b[1;31m---------------------------------------------------------------------------\u001b[0m",
      "\u001b[1;31mAttributeError\u001b[0m                            Traceback (most recent call last)",
      "Cell \u001b[1;32mIn[5], line 10\u001b[0m\n\u001b[0;32m      7\u001b[0m x \u001b[38;5;241m=\u001b[39m Knight()\n\u001b[0;32m      8\u001b[0m x\u001b[38;5;241m.\u001b[39mprint_item_limit()\n\u001b[1;32m---> 10\u001b[0m \u001b[38;5;28mprint\u001b[39m(\u001b[43mKnight\u001b[49m\u001b[38;5;241;43m.\u001b[39;49m\u001b[43m__item_limit\u001b[49m)\n",
      "\u001b[1;31mAttributeError\u001b[0m: type object 'Knight' has no attribute '__item_limit'"
     ]
    }
   ],
   "source": [
    "class Knight:\n",
    "    __item_limit = 10\n",
    "\n",
    "    def print_item_limit(self):\n",
    "        print(Knight.__item_limit)\n",
    "\n",
    "x = Knight()\n",
    "x.print_item_limit()\n",
    "\n",
    "print(Knight.__item_limit)      # 에러: 클래스 바깥에서 접근할 수 없음"
   ]
  },
  {
   "cell_type": "markdown",
   "metadata": {},
   "source": [
    "- 독스트링 (doc string)"
   ]
  },
  {
   "cell_type": "code",
   "execution_count": 6,
   "metadata": {},
   "outputs": [
    {
     "name": "stdout",
     "output_type": "stream",
     "text": [
      "사람 클래스 입니다\n",
      "인사 메서드\n"
     ]
    }
   ],
   "source": [
    "class Person:\n",
    "    '''사람 클래스 입니다'''\n",
    "    \n",
    "    def greeting(self):\n",
    "        '''인사 메서드'''\n",
    "        print('Hello')\n",
    "    \n",
    "print(Person.__doc__)\n",
    "print(Person.greeting.__doc__)"
   ]
  },
  {
   "cell_type": "markdown",
   "metadata": {},
   "source": [
    "# 2. 정적(static) 메서드"
   ]
  },
  {
   "cell_type": "code",
   "execution_count": 7,
   "metadata": {},
   "outputs": [
    {
     "name": "stdout",
     "output_type": "stream",
     "text": [
      "30\n",
      "200\n"
     ]
    }
   ],
   "source": [
    "class Calc:\n",
    "\n",
    "    @staticmethod\n",
    "    def add(a, b):\n",
    "        print(a+b)\n",
    "    \n",
    "    @staticmethod\n",
    "    def mul(a, b):\n",
    "        print(a*b)\n",
    "    \n",
    "Calc.add(10, 20)\n",
    "Calc.mul(10, 20)"
   ]
  },
  {
   "cell_type": "markdown",
   "metadata": {},
   "source": [
    "# 3. 클래스 메서드"
   ]
  },
  {
   "cell_type": "code",
   "execution_count": 12,
   "metadata": {},
   "outputs": [
    {
     "name": "stdout",
     "output_type": "stream",
     "text": [
      "2명 생성되었습니다.\n",
      "2\n"
     ]
    }
   ],
   "source": [
    "class Person:\n",
    "    count = 0   # 클래스 속성\n",
    "\n",
    "    def __init__(self):\n",
    "        Person.count += 1       # 인스턴스 생성시, 클래스 속성 count += 1\n",
    "\n",
    "    @classmethod\n",
    "    def print_count(cls):   # 첫 번째 매개변수는 무조건 cls\n",
    "        print('{0}명 생성되었습니다.'.format(cls.count))    # cls로 클래스 속성에 접근할 수 있음. Person.count도 되긴 함\n",
    "\n",
    "james = Person()\n",
    "maria = Person()\n",
    "\n",
    "Person.print_count()        # 클래스 메서드\n",
    "print(Person.count)         # 클래스 속성"
   ]
  },
  {
   "cell_type": "code",
   "execution_count": null,
   "metadata": {},
   "outputs": [],
   "source": [
    "class Person:\n",
    "    \n",
    "    @classmethod\n",
    "    def create(cls):\n",
    "        p = cls()       # == Person()\n",
    "        return p"
   ]
  },
  {
   "cell_type": "markdown",
   "metadata": {},
   "source": [
    "# 연습문제"
   ]
  },
  {
   "cell_type": "code",
   "execution_count": 22,
   "metadata": {},
   "outputs": [
    {
     "name": "stdout",
     "output_type": "stream",
     "text": [
      "올바른 날짜 형식입니다.\n"
     ]
    }
   ],
   "source": [
    "# 다음 소스에서 Date 클래스를 완성하세요\n",
    "# is_date_valid는 문자열이 올바른 날짜인지 검사하는 메서드입니다. 날짜에서 12월은 31일까지 있어야 합니다.\n",
    "\n",
    "class Date:\n",
    "    @staticmethod\n",
    "    def is_date_valid(date):\n",
    "        valid = False\n",
    "\n",
    "        if len(date.split('-')[0]) == 4 and len(date.split('-')[1]) == 2 and len(date.split('-')[2]) == 2:\n",
    "            if 1 <= int(date.split('-')[-1]) <= 31:\n",
    "                valid = True        \n",
    "        return valid\n",
    "\n",
    "if Date.is_date_valid('2000-10-31'):\n",
    "    print('올바른 날짜 형식입니다.')\n",
    "else:\n",
    "    print('잘못된 날짜 형식입니다.')"
   ]
  },
  {
   "cell_type": "markdown",
   "metadata": {},
   "source": [
    "- 책 정답"
   ]
  },
  {
   "cell_type": "code",
   "execution_count": 23,
   "metadata": {},
   "outputs": [
    {
     "name": "stdout",
     "output_type": "stream",
     "text": [
      "올바른 날짜 형식입니다.\n"
     ]
    }
   ],
   "source": [
    "class Date:\n",
    "    @staticmethod\n",
    "    def is_date_valid(date):\n",
    "        year, month, day = map(int, date.split('-'))\n",
    "        return month <= 12 and day <= 31\n",
    "\n",
    "if Date.is_date_valid('2000-10-31'):\n",
    "    print('올바른 날짜 형식입니다.')\n",
    "else:\n",
    "    print('잘못된 날짜 형식입니다.')"
   ]
  },
  {
   "cell_type": "markdown",
   "metadata": {},
   "source": [
    "# 심사문제"
   ]
  },
  {
   "cell_type": "markdown",
   "metadata": {},
   "source": [
    "입력으로 시:분:초를 입력받습니다. 다음 소스코드에서 Time 클래스를 완성하여 시, 분, 초가 출력되게 만드세요.  \n",
    "`from_string`은 문자열로 인스턴스를 만드는 메서드이며, `is_time_valid`는 문자열이 올바른 시간인지 검사하는 메서드입니다.  \n",
    "시간은 24시까지, 분은 59분까지, 초는 60초까지 있어야 합니다."
   ]
  },
  {
   "cell_type": "code",
   "execution_count": 26,
   "metadata": {},
   "outputs": [
    {
     "name": "stdout",
     "output_type": "stream",
     "text": [
      "잘못된 시간 형식입니다.\n"
     ]
    }
   ],
   "source": [
    "class Time:\n",
    "    def __init__(self, hour, minute, second):\n",
    "        self.hour = hour\n",
    "        self.minute = minute\n",
    "        self.second = second\n",
    "    \n",
    "    @classmethod\n",
    "    def from_string(cls, time_string):\n",
    "        h, m, s = time_string.split(':')\n",
    "        instance = cls(h, m, s)\n",
    "        return instance\n",
    "\n",
    "    @staticmethod\n",
    "    def is_time_valid(time_string):\n",
    "        h, m, s = map(int, time_string.split(':'))\n",
    "        return h <= 24 and m <= 59 and s <= 60 \n",
    "\n",
    "time_string = input()\n",
    "\n",
    "if Time.is_time_valid(time_string):\n",
    "    t = Time.from_string(time_string)\n",
    "    print(t.hour, t.minute, t.second)\n",
    "else:\n",
    "    print('잘못된 시간 형식입니다.')"
   ]
  }
 ],
 "metadata": {
  "kernelspec": {
   "display_name": "Python 3",
   "language": "python",
   "name": "python3"
  },
  "language_info": {
   "codemirror_mode": {
    "name": "ipython",
    "version": 3
   },
   "file_extension": ".py",
   "mimetype": "text/x-python",
   "name": "python",
   "nbconvert_exporter": "python",
   "pygments_lexer": "ipython3",
   "version": "3.8.2"
  }
 },
 "nbformat": 4,
 "nbformat_minor": 2
}
