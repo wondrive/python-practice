{
 "cells": [
  {
   "cell_type": "markdown",
   "metadata": {},
   "source": [
    "# 문자열 조작"
   ]
  },
  {
   "cell_type": "markdown",
   "metadata": {},
   "source": [
    "- 문자열 바꾸기 (replace)"
   ]
  },
  {
   "cell_type": "code",
   "execution_count": 2,
   "metadata": {},
   "outputs": [
    {
     "data": {
      "text/plain": [
       "'Hello python'"
      ]
     },
     "execution_count": 2,
     "metadata": {},
     "output_type": "execute_result"
    }
   ],
   "source": [
    "s = \"Hello world\"\n",
    "s = s.replace('world', 'python')\n",
    "s"
   ]
  },
  {
   "cell_type": "markdown",
   "metadata": {},
   "source": [
    "- 문자 바꾸기"
   ]
  },
  {
   "cell_type": "code",
   "execution_count": 3,
   "metadata": {},
   "outputs": [
    {
     "data": {
      "text/plain": [
       "'1ppl2'"
      ]
     },
     "execution_count": 3,
     "metadata": {},
     "output_type": "execute_result"
    }
   ],
   "source": [
    "table = str.maketrans('aeiou', '12345') # 각 위치에 매핑되는 문자로 바꿈\n",
    "'apple'.translate(table)"
   ]
  },
  {
   "cell_type": "markdown",
   "metadata": {},
   "source": [
    "- 구분자 문자열로 연결하기"
   ]
  },
  {
   "cell_type": "code",
   "execution_count": 5,
   "metadata": {},
   "outputs": [
    {
     "data": {
      "text/plain": [
       "'apple-grape-pear-orange'"
      ]
     },
     "execution_count": 5,
     "metadata": {},
     "output_type": "execute_result"
    }
   ],
   "source": [
    "'-'.join(['apple', 'grape', 'pear', 'orange'])"
   ]
  },
  {
   "cell_type": "markdown",
   "metadata": {},
   "source": [
    "- 대소문자 변경"
   ]
  },
  {
   "cell_type": "code",
   "execution_count": 6,
   "metadata": {},
   "outputs": [
    {
     "data": {
      "text/plain": [
       "'PYTHON'"
      ]
     },
     "execution_count": 6,
     "metadata": {},
     "output_type": "execute_result"
    }
   ],
   "source": [
    "'python'.upper()"
   ]
  },
  {
   "cell_type": "code",
   "execution_count": 7,
   "metadata": {},
   "outputs": [
    {
     "data": {
      "text/plain": [
       "'python'"
      ]
     },
     "execution_count": 7,
     "metadata": {},
     "output_type": "execute_result"
    }
   ],
   "source": [
    "'PYTHON'.lower()"
   ]
  },
  {
   "cell_type": "markdown",
   "metadata": {},
   "source": [
    "- 공백 삭제"
   ]
  },
  {
   "cell_type": "code",
   "execution_count": 10,
   "metadata": {},
   "outputs": [
    {
     "name": "stdout",
     "output_type": "stream",
     "text": [
      "python    \n",
      "    python\n",
      "python\n"
     ]
    }
   ],
   "source": [
    "print('    python    '.lstrip())  # 왼쪽 공백 삭제\n",
    "print('    python    '.rstrip())\n",
    "print('    python    '.strip())"
   ]
  },
  {
   "cell_type": "markdown",
   "metadata": {},
   "source": [
    "- 특정 문자 삭제"
   ]
  },
  {
   "cell_type": "code",
   "execution_count": 12,
   "metadata": {},
   "outputs": [
    {
     "name": "stdout",
     "output_type": "stream",
     "text": [
      "python.............\n",
      ".............python\n",
      "python\n"
     ]
    }
   ],
   "source": [
    "print('.............python.............'.lstrip('.'))\n",
    "print('.............python.............'.rstrip('.'))\n",
    "print('.............python.............'.strip('.'))"
   ]
  },
  {
   "cell_type": "markdown",
   "metadata": {},
   "source": [
    "- 구두점 삭제 (string.punctuation 활용)"
   ]
  },
  {
   "cell_type": "code",
   "execution_count": 14,
   "metadata": {},
   "outputs": [
    {
     "data": {
      "text/plain": [
       "'python'"
      ]
     },
     "execution_count": 14,
     "metadata": {},
     "output_type": "execute_result"
    }
   ],
   "source": [
    "import string\n",
    "string.punctuation  # 모든 구두점 (특수문자)\n",
    "\n",
    "'., (python)#'.strip(string.punctuation + ' ') #공백도 같이 삭제\n",
    "\n",
    "# 공백도 같이 삭제 - 방법2\n",
    "'., (python)#'.strip(string.punctuation).strip()    # 메서드 체이닝(chaining)"
   ]
  },
  {
   "cell_type": "markdown",
   "metadata": {},
   "source": [
    "- 문자열 정렬"
   ]
  },
  {
   "cell_type": "code",
   "execution_count": 19,
   "metadata": {},
   "outputs": [
    {
     "name": "stdout",
     "output_type": "stream",
     "text": [
      "python    \n",
      "    python\n",
      "  python  \n"
     ]
    }
   ],
   "source": [
    "print('python'.ljust(10))\n",
    "print('python'.rjust(10))\n",
    "print('python'.center(10))"
   ]
  },
  {
   "cell_type": "markdown",
   "metadata": {},
   "source": [
    "- 메서드 체이닝 (method chaining) : 메소드 줄줄이 연결하기"
   ]
  },
  {
   "cell_type": "code",
   "execution_count": 20,
   "metadata": {},
   "outputs": [
    {
     "data": {
      "text/plain": [
       "'    PYTHON'"
      ]
     },
     "execution_count": 20,
     "metadata": {},
     "output_type": "execute_result"
    }
   ],
   "source": [
    "'python'.rjust(10).upper()"
   ]
  },
  {
   "cell_type": "markdown",
   "metadata": {},
   "source": [
    "- 문자 채우기"
   ]
  },
  {
   "cell_type": "code",
   "execution_count": 25,
   "metadata": {},
   "outputs": [
    {
     "name": "stdout",
     "output_type": "stream",
     "text": [
      "001\n",
      "0000python\n"
     ]
    }
   ],
   "source": [
    "print('1'.zfill(3))    # 앞에 0 채움\n",
    "print('python'.zfill(10))"
   ]
  },
  {
   "cell_type": "markdown",
   "metadata": {},
   "source": [
    "- 문자열 위치 찾기: find, index\n",
    "    - find: 문자열 없으면 -1 반환, 있으면 인덱스 반환\n",
    "    - index: 문자열 없으면 에러 반환, 있으면 인덱스 반환\n",
    "    - 찾은 문자열이 여러 개면 첫 인덱스 반환함"
   ]
  },
  {
   "cell_type": "code",
   "execution_count": 29,
   "metadata": {},
   "outputs": [
    {
     "name": "stdout",
     "output_type": "stream",
     "text": [
      "2\n",
      "12\n",
      "2\n",
      "12\n"
     ]
    }
   ],
   "source": [
    "print('apple pineapple'.find('pl'))   # apple의 'pl' 찾음\n",
    "print('apple pineapple'.rfind('pl'))  # pineapple의 'pl' 찾음 (오른쪽부터 찾음)\n",
    "\n",
    "print('apple pineapple'.index('pl'))   # apple의 'pl' 찾음\n",
    "print('apple pineapple'.rindex('pl'))  # pineapple의 'pl' 찾음 (오른쪽부터 찾음)"
   ]
  },
  {
   "cell_type": "markdown",
   "metadata": {},
   "source": [
    "- 문자열 개수 세기"
   ]
  },
  {
   "cell_type": "code",
   "execution_count": 30,
   "metadata": {},
   "outputs": [
    {
     "data": {
      "text/plain": [
       "2"
      ]
     },
     "execution_count": 30,
     "metadata": {},
     "output_type": "execute_result"
    }
   ],
   "source": [
    "'apple pineapple'.count('pl')"
   ]
  },
  {
   "cell_type": "markdown",
   "metadata": {},
   "source": [
    "# 포매팅"
   ]
  },
  {
   "cell_type": "markdown",
   "metadata": {},
   "source": [
    "1. 서식지정자 (format specifier) 사용  \n",
    "    - %s, %d, %f"
   ]
  },
  {
   "cell_type": "code",
   "execution_count": 37,
   "metadata": {},
   "outputs": [
    {
     "name": "stdout",
     "output_type": "stream",
     "text": [
      "I am Jeong.\n",
      "    python\n",
      "python    \n",
      "I'm 26 years old\n",
      "PI is 3.140000\n",
      "PI is 3.14\n"
     ]
    }
   ],
   "source": [
    "print('I am %s.' % 'Jeong')\n",
    "print('%10s' % 'python')        # 총 길이 10 중 공백 4, python 6글자\n",
    "print('%-10s' % 'python')       # 총 길이 10 중 python 6글자, 공백 4\n",
    "\n",
    "print('I\\'m %d years old' % 26)\n",
    "print('PI is %f' % 3.14)    # 기본으로 소수점 이하 6자리까지 표시\n",
    "print('PI is %.2f' % 3.14)"
   ]
  },
  {
   "cell_type": "markdown",
   "metadata": {},
   "source": [
    "2. format 메소드 사용\n",
    "    - { }"
   ]
  },
  {
   "cell_type": "code",
   "execution_count": 52,
   "metadata": {},
   "outputs": [
    {
     "name": "stdout",
     "output_type": "stream",
     "text": [
      "Hello world\n",
      "My name is Jeong\n",
      "Jeong is My name\n",
      "My My name name\n",
      "I'm Jeong and 26\n"
     ]
    }
   ],
   "source": [
    "print('Hello {}'.format('world'))\n",
    "print('{} {} {} {}'.format('My', 'name', 'is', 'Jeong'))\n",
    "print('{3} {2} {0} {1}'.format('My', 'name', 'is', 'Jeong'))    # 인덱스 사용\n",
    "print('{0} {0} {1} {1}'.format('My', 'name', 'is', 'Jeong'))\n",
    "\n",
    "print('I\\'m {name} and {age}'.format(name='Jeong', age=26))     # 이름 지정"
   ]
  },
  {
   "cell_type": "markdown",
   "metadata": {},
   "source": [
    "중괄호 그대로 출력하기.. ㅎㅎ"
   ]
  },
  {
   "cell_type": "code",
   "execution_count": 51,
   "metadata": {},
   "outputs": [
    {
     "name": "stdout",
     "output_type": "stream",
     "text": [
      "{ 0 }\n"
     ]
    }
   ],
   "source": [
    "print('{{ {0} }}'.format(0))    "
   ]
  },
  {
   "cell_type": "markdown",
   "metadata": {},
   "source": [
    "3. 문자열 포매팅에 변수 그대로 사용하기"
   ]
  },
  {
   "cell_type": "code",
   "execution_count": 53,
   "metadata": {},
   "outputs": [
    {
     "name": "stdout",
     "output_type": "stream",
     "text": [
      "Jeong and 26\n"
     ]
    }
   ],
   "source": [
    "# 파이썬 3.6부터 사용 가능한 포매팅\n",
    "name='Jeong'\n",
    "age=26\n",
    "print(f'{name} and {age}')"
   ]
  },
  {
   "cell_type": "markdown",
   "metadata": {},
   "source": [
    "4. 기타"
   ]
  },
  {
   "cell_type": "markdown",
   "metadata": {},
   "source": [
    "- 문자열 정렬"
   ]
  },
  {
   "cell_type": "code",
   "execution_count": 56,
   "metadata": {},
   "outputs": [
    {
     "name": "stdout",
     "output_type": "stream",
     "text": [
      "    python\n"
     ]
    }
   ],
   "source": [
    "print('{:>10}'.format('python'))   # 인덱스:<정렬할길이"
   ]
  },
  {
   "cell_type": "markdown",
   "metadata": {},
   "source": [
    "- 숫자 개수 맞추기"
   ]
  },
  {
   "cell_type": "code",
   "execution_count": 57,
   "metadata": {},
   "outputs": [
    {
     "name": "stdout",
     "output_type": "stream",
     "text": [
      "001\n"
     ]
    }
   ],
   "source": [
    "print('%03d' % 1)"
   ]
  },
  {
   "cell_type": "code",
   "execution_count": 66,
   "metadata": {},
   "outputs": [
    {
     "name": "stdout",
     "output_type": "stream",
     "text": [
      "003.140000\n",
      "      3.14\n",
      "0000003.14\n"
     ]
    }
   ],
   "source": [
    "print('{0:010f}'.format(3.14))  # 0을 10만큼 채움 (소수점 자리도 포함하여 셈)\n",
    "print('{:10.2f}'.format(3.14))  # 자릿수\n",
    "print('{:010.2f}'.format(3.14)) # 0을 10만큼 채움"
   ]
  },
  {
   "cell_type": "markdown",
   "metadata": {},
   "source": [
    "# 연습문제  \n",
    "문제1. 파일 경로에서 파일명만 가져오기. (단, 경로에서 폴더 깊이가 달라져도 파일명만 출력해야 함.)"
   ]
  },
  {
   "cell_type": "code",
   "execution_count": 96,
   "metadata": {},
   "outputs": [
    {
     "name": "stdout",
     "output_type": "stream",
     "text": [
      "python.exe\n"
     ]
    }
   ],
   "source": [
    "path = 'C:\\\\Users\\\\monkey\\\\AppData\\\\Local\\\\Programs\\\\Python\\\\Python38-32\\\\python.exe'\n",
    "\n",
    "filename = path.split('\\\\')[-1]     # 내 답\n",
    "'''\n",
    "# 또는 \n",
    "x = path.split('\\\\')\n",
    "x.reverse()\n",
    "filename = x[0]\n",
    "\n",
    "# 또는\n",
    "filename = path[path.rfind('\\\\') + 1:]\n",
    "'''\n",
    "\n",
    "print(filename)"
   ]
  },
  {
   "cell_type": "markdown",
   "metadata": {},
   "source": [
    "# 심사문제1. 특정 단어 개수 세기"
   ]
  },
  {
   "cell_type": "code",
   "execution_count": 110,
   "metadata": {},
   "outputs": [
    {
     "name": "stdout",
     "output_type": "stream",
     "text": [
      "6\n"
     ]
    }
   ],
   "source": [
    "sentence = \"the grown-ups' response, this time, was to advise me to lay aside my drawings of boa constrictors, whether from the inside or the outside, and devote myself instead to geography, history, arithmetic, and grammar. That is why, at the, age of six, I gave up what might have been a magnificent career as a painter. I had been disheartened by the failure of my Drawing Number One and my Drawing Number Two. Grown-ups never understand anything by themselves, and it is tiresome for children to be always and forever explaining things to the.\"\n",
    "\n",
    "# step 1. the+(구두점+공백) 리스트를 만들어서\n",
    "import string\n",
    "string.punctuation  # 모든 구두점 (특수문자)\n",
    "the_punctuations = ['the'+i for i in string.punctuation+' ']\n",
    "\n",
    "# step 2. 문장에서 the+(구두점 or 공백)의 개수 찾기\n",
    "count = 0\n",
    "for i in the_punctuations:\n",
    "    count += sentence.count(i)\n",
    "    \n",
    "print(count)"
   ]
  },
  {
   "cell_type": "code",
   "execution_count": 108,
   "metadata": {},
   "outputs": [],
   "source": [
    "if 'the' in the_punctuations:\n",
    "    print('true')"
   ]
  },
  {
   "cell_type": "markdown",
   "metadata": {},
   "source": [
    "# 심사문제2. 높은 가격순으로 출력하기"
   ]
  },
  {
   "cell_type": "code",
   "execution_count": 95,
   "metadata": {},
   "outputs": [
    {
     "name": "stdout",
     "output_type": "stream",
     "text": [
      " 1,304,000\n",
      "   367,500\n",
      "   250,000\n",
      "   158,000\n",
      "   128,500\n",
      "    83,000\n",
      "    59,200\n",
      "    51,900\n"
     ]
    }
   ],
   "source": [
    "# 표준입력: 51900;83000;158000;367500;250000;59200;128500;1304000\n",
    "price = list(map(int, input().split(';')))\n",
    "price = sorted(price, reverse=True) # price.sort(reverse=True) # 같은 함수, inplace만 다름\n",
    "\n",
    "for i in price:\n",
    "    print('{:>9,d}'.format(i))"
   ]
  },
  {
   "cell_type": "code",
   "execution_count": null,
   "metadata": {},
   "outputs": [],
   "source": []
  }
 ],
 "metadata": {
  "kernelspec": {
   "display_name": "Python 3",
   "language": "python",
   "name": "python3"
  },
  "language_info": {
   "codemirror_mode": {
    "name": "ipython",
    "version": 3
   },
   "file_extension": ".py",
   "mimetype": "text/x-python",
   "name": "python",
   "nbconvert_exporter": "python",
   "pygments_lexer": "ipython3",
   "version": "3.8.2"
  }
 },
 "nbformat": 4,
 "nbformat_minor": 2
}
