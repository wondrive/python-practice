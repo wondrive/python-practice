{
 "cells": [
  {
   "cell_type": "markdown",
   "metadata": {},
   "source": [
    "# 1. 회문 판별하기"
   ]
  },
  {
   "cell_type": "markdown",
   "metadata": {},
   "source": [
    "- 회문(palindrome)이란: 거꾸로 읽어도 같은 단어가 되는 것"
   ]
  },
  {
   "cell_type": "code",
   "execution_count": 15,
   "metadata": {},
   "outputs": [
    {
     "name": "stdout",
     "output_type": "stream",
     "text": [
      "rotator is palindrome\n"
     ]
    }
   ],
   "source": [
    "# 내가 짠 코드\n",
    "\n",
    "word = input().strip().lower()      # 셀프 피드백: strip은 양옆 공백을 삭제해주는 것이지 가운데 공백 삭제해주는 역할이 아님\n",
    "\n",
    "half_length = int(len(word)/2)      # 셀프 피드백: / 연산 대신 // 사용하면 int로 변환 안 해줘도 됨\n",
    "\n",
    "for i in range(half_length):\n",
    "    if word[i] == word[-i-1]:\n",
    "        if i == half_length-1:\n",
    "            print(f\"{word} is palindrome\")\n",
    "        continue\n",
    "    else:\n",
    "        print(f\"{word} is not palindrome\")\n",
    "        break"
   ]
  },
  {
   "cell_type": "markdown",
   "metadata": {},
   "source": [
    "### 책 코드"
   ]
  },
  {
   "cell_type": "code",
   "execution_count": 17,
   "metadata": {},
   "outputs": [
    {
     "name": "stdout",
     "output_type": "stream",
     "text": [
      "True\n"
     ]
    }
   ],
   "source": [
    "# 방법 1. 반복문 사용하기\n",
    "\n",
    "word = input()\n",
    "\n",
    "is_palindrome = True\n",
    "for i in range(len(word) // 2):\n",
    "    if word[i] != word[-1-i]:\n",
    "        is_palindrome = False\n",
    "        break\n",
    "\n",
    "print(is_palindrome)"
   ]
  },
  {
   "cell_type": "code",
   "execution_count": 23,
   "metadata": {},
   "outputs": [
    {
     "name": "stdout",
     "output_type": "stream",
     "text": [
      "True\n"
     ]
    }
   ],
   "source": [
    "# 방법 2. 시퀀스 거꾸로 읽기\n",
    "word = 'level'\n",
    "print(word[::] == word[::-1])"
   ]
  },
  {
   "cell_type": "code",
   "execution_count": 26,
   "metadata": {},
   "outputs": [
    {
     "name": "stdout",
     "output_type": "stream",
     "text": [
      "<reversed object at 0x05948C70>\n"
     ]
    }
   ],
   "source": [
    "# 방법 3. 리스트와 reversed 사용하기\n",
    "word = 'level'\n",
    "print(list(word) == list(reversed(word)))"
   ]
  },
  {
   "cell_type": "code",
   "execution_count": 29,
   "metadata": {},
   "outputs": [
    {
     "data": {
      "text/plain": [
       "True"
      ]
     },
     "execution_count": 29,
     "metadata": {},
     "output_type": "execute_result"
    }
   ],
   "source": [
    "# 방법 4. 문자열의 join 메서드 + reversed 사용\n",
    "word = 'level'\n",
    "word == ''.join(reversed(word))     # str(reversed(word)) 는 안되네"
   ]
  },
  {
   "cell_type": "markdown",
   "metadata": {},
   "source": [
    "# 2. N-gram 만들기"
   ]
  },
  {
   "cell_type": "markdown",
   "metadata": {},
   "source": [
    "- gram 뜻: 단어(어구) 조각"
   ]
  },
  {
   "cell_type": "code",
   "execution_count": 33,
   "metadata": {},
   "outputs": [
    {
     "name": "stdout",
     "output_type": "stream",
     "text": [
      "he\n",
      "el\n",
      "ll\n",
      "lo\n"
     ]
    }
   ],
   "source": [
    "# 내 정답\n",
    "word = 'hello'\n",
    "n_gram = 2\n",
    "for i in range(len(word) - n_gram + 1):\n",
    "    print(word[i:i+n_gram])"
   ]
  },
  {
   "cell_type": "markdown",
   "metadata": {},
   "source": [
    "### 책 정답"
   ]
  },
  {
   "cell_type": "markdown",
   "metadata": {},
   "source": [
    "- 방법 1. 반복문으로 출력하기"
   ]
  },
  {
   "cell_type": "code",
   "execution_count": 34,
   "metadata": {},
   "outputs": [
    {
     "name": "stdout",
     "output_type": "stream",
     "text": [
      "he\n",
      "el\n",
      "ll\n",
      "lo\n"
     ]
    }
   ],
   "source": [
    "# 글자 단위 n-gram인 경우\n",
    "text = 'hello'\n",
    "for i in range(len(text) - 1):\n",
    "    print(text[i], text[i+1], sep='')"
   ]
  },
  {
   "cell_type": "code",
   "execution_count": 38,
   "metadata": {},
   "outputs": [
    {
     "name": "stdout",
     "output_type": "stream",
     "text": [
      "this is\n",
      "is python\n",
      "python script\n"
     ]
    }
   ],
   "source": [
    "# 단어 단위 n-그램인 경우\n",
    "text = 'this is python script'\n",
    "words = text.split()\n",
    "\n",
    "for i in range(len(words) - 1):\n",
    "    print(words[i], words[i+1], sep=' ')"
   ]
  },
  {
   "cell_type": "markdown",
   "metadata": {},
   "source": [
    "- 방법 2. zip 사용"
   ]
  },
  {
   "cell_type": "code",
   "execution_count": 44,
   "metadata": {},
   "outputs": [
    {
     "name": "stdout",
     "output_type": "stream",
     "text": [
      "he\n",
      "el\n",
      "ll\n",
      "lo\n"
     ]
    }
   ],
   "source": [
    "text = 'hello'\n",
    "\n",
    "two_gram = zip(text, text[1:])\n",
    "for i in two_gram:\n",
    "    print(i[0], i[1], sep='')\n",
    "\n",
    "# 이것도 됨\n",
    "# for i, j in two_gram:\n",
    "#     print(i, j, sep='')"
   ]
  },
  {
   "cell_type": "code",
   "execution_count": 51,
   "metadata": {},
   "outputs": [
    {
     "data": {
      "text/plain": [
       "[('this', 'is'), ('is', 'python'), ('python', 'script')]"
      ]
     },
     "execution_count": 51,
     "metadata": {},
     "output_type": "execute_result"
    }
   ],
   "source": [
    "# 단어 단위 2-gram\n",
    "text = 'this is python script'\n",
    "words = text.split()\n",
    "list(zip(words, words[1:]))     # Q. 왜 zip(words[:-1], words[1:])가 아니라 words[:]로 해주는 걸까?\n",
    "                                # A. 반복 가능한 객체의 요소 까지만 튜플로 묶어주기 때문인듯. 짝궁 원소가 없어 묶을 수 없는 마지막 원소는 자동 제외"
   ]
  },
  {
   "cell_type": "markdown",
   "metadata": {},
   "source": [
    "- 방법 3. zip + 리스트 표현식"
   ]
  },
  {
   "cell_type": "code",
   "execution_count": 55,
   "metadata": {},
   "outputs": [
    {
     "data": {
      "text/plain": [
       "[('h', 'e', 'l'), ('e', 'l', 'l'), ('l', 'l', 'o')]"
      ]
     },
     "execution_count": 55,
     "metadata": {},
     "output_type": "execute_result"
    }
   ],
   "source": [
    "# 예: 3-gram이라면\n",
    "text = 'hello'\n",
    "list(zip(*[text[i:] for i in range(3)]))        # *: 글자로 언패킹 후. zip에 의해 최소 크기인 'llo' 3에 맞춰 나머지 요소들도 크기 짧아짐."
   ]
  },
  {
   "cell_type": "markdown",
   "metadata": {},
   "source": [
    "# 연습문제"
   ]
  },
  {
   "cell_type": "markdown",
   "metadata": {},
   "source": [
    "다음 소스코드 완성하여, 입력된 숫자에 해당하는 단어 단위 N-gram을 튜플로 출력하시오. (단, 이때 리스트 표현식 사용할것).  \n",
    "만약 입력된 문자열의 단어 개수가 입력된 정수 미만이라면 'wrong' 출력"
   ]
  },
  {
   "cell_type": "code",
   "execution_count": 62,
   "metadata": {},
   "outputs": [
    {
     "name": "stdout",
     "output_type": "stream",
     "text": [
      "(('Python', 'is', 'a', 'programming', 'language', 'that', 'lets'), ('is', 'a', 'programming', 'language', 'that', 'lets', 'you'), ('a', 'programming', 'language', 'that', 'lets', 'you', 'work'), ('programming', 'language', 'that', 'lets', 'you', 'work', 'quickly'))\n"
     ]
    }
   ],
   "source": [
    "# 정수와 문자열이 입력됨\n",
    "n = int(input())\n",
    "text = input()\n",
    "words = text.split()\n",
    "\n",
    "if len(words) < n:\n",
    "    print('wrong')\n",
    "else:\n",
    "    print(tuple(zip(*[words[i:] for i in range(n)])))"
   ]
  },
  {
   "cell_type": "markdown",
   "metadata": {},
   "source": [
    "# 심사문제"
   ]
  },
  {
   "cell_type": "markdown",
   "metadata": {},
   "source": [
    "주어진 words3.txt 파일에서 회문인 단어를 각 줄에 출력하는 프로그램 만들기.  \n",
    "파일에서 읽은 단어는 \\n을 제외한 뒤 회문인지 판단해야 하며, 단어 출력시에도 \\n을 출력하면 안 됨."
   ]
  },
  {
   "cell_type": "code",
   "execution_count": 63,
   "metadata": {},
   "outputs": [
    {
     "name": "stdout",
     "output_type": "stream",
     "text": [
      "did\n",
      "noon\n",
      "refer\n"
     ]
    }
   ],
   "source": [
    "with open('file/words3.txt', 'r') as file:\n",
    "    for line in file:\n",
    "        text = line.strip('\\n')\n",
    "        # 회문 판단\n",
    "        if text[::] == text[::-1]:\n",
    "            print(text)"
   ]
  }
 ],
 "metadata": {
  "kernelspec": {
   "display_name": "Python 3",
   "language": "python",
   "name": "python3"
  },
  "language_info": {
   "codemirror_mode": {
    "name": "ipython",
    "version": 3
   },
   "file_extension": ".py",
   "mimetype": "text/x-python",
   "name": "python",
   "nbconvert_exporter": "python",
   "pygments_lexer": "ipython3",
   "version": "3.8.2"
  }
 },
 "nbformat": 4,
 "nbformat_minor": 2
}
