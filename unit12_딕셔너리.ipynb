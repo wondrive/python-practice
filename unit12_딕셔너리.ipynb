{
 "cells": [
  {
   "cell_type": "markdown",
   "metadata": {},
   "source": [
    "key 중복시 가장 마지막 값 사용"
   ]
  },
  {
   "cell_type": "code",
   "execution_count": 9,
   "metadata": {},
   "outputs": [
    {
     "data": {
      "text/plain": [
       "{'name': 'Jeong', 'age': 17}"
      ]
     },
     "execution_count": 9,
     "metadata": {},
     "output_type": "execute_result"
    }
   ],
   "source": [
    "a = {'name': 'Kim', 'name':'Jeong', 'age':17}\n",
    "a"
   ]
  },
  {
   "cell_type": "markdown",
   "metadata": {},
   "source": [
    "딕셔너리 만들기 (2가지 방법)"
   ]
  },
  {
   "cell_type": "code",
   "execution_count": 7,
   "metadata": {},
   "outputs": [
    {
     "name": "stdout",
     "output_type": "stream",
     "text": [
      "{'name': 'Jeong'}\n",
      "{'name': 'Jeong'}\n",
      "{'name': 'Jeong', 'age': 17}\n",
      "{'name': 'Jeong', 'age': 17, 'height': 170.2}\n"
     ]
    }
   ],
   "source": [
    "a = {'name':'Jeong'}\n",
    "\n",
    "print(dict(name='Jeong'))\n",
    "print(dict({'name':'Jeong'}))\n",
    "print(dict([('name', 'Jeong'), ('age', 17)]))\n",
    "print(dict(zip(['name', 'age', 'height'], ['Jeong', 17, 170.2])))"
   ]
  },
  {
   "cell_type": "code",
   "execution_count": 13,
   "metadata": {},
   "outputs": [
    {
     "name": "stdout",
     "output_type": "stream",
     "text": [
      "True\n",
      "True\n"
     ]
    }
   ],
   "source": [
    "# key 확인\n",
    "print('name' in a)\n",
    "print('weight' not in a)"
   ]
  },
  {
   "cell_type": "code",
   "execution_count": 14,
   "metadata": {},
   "outputs": [
    {
     "name": "stdout",
     "output_type": "stream",
     "text": [
      "2\n"
     ]
    }
   ],
   "source": [
    "# key 개수\n",
    "print(len(a))"
   ]
  },
  {
   "cell_type": "markdown",
   "metadata": {},
   "source": [
    "# 연습문제"
   ]
  },
  {
   "cell_type": "markdown",
   "metadata": {},
   "source": [
    "문제1. 다음 소스코드 완성하기"
   ]
  },
  {
   "cell_type": "code",
   "execution_count": 15,
   "metadata": {},
   "outputs": [
    {
     "name": "stdout",
     "output_type": "stream",
     "text": [
      "575.6\n",
      "340\n"
     ]
    }
   ],
   "source": [
    "camille = {\n",
    "    'health': 575.6,\n",
    "    'health_regen': 1.7,\n",
    "    'mana': 338.8,\n",
    "    'mana_green': 1.63,\n",
    "    'melee': 125,\n",
    "    'attack_damage': 60,\n",
    "    'attack_speed': 0.625,\n",
    "    'armor':26,\n",
    "    'magic_resistance': 32.1,\n",
    "    'movement_speed': 340\n",
    "}\n",
    "\n",
    "print(camille['health'])\n",
    "print(camille['movement_speed'])"
   ]
  },
  {
   "cell_type": "markdown",
   "metadata": {},
   "source": [
    "문제2. 딕셔너리에 게임 캐릭터 능력치 저장하기"
   ]
  },
  {
   "cell_type": "code",
   "execution_count": 18,
   "metadata": {},
   "outputs": [
    {
     "ename": "TypeError",
     "evalue": "int() argument must be a string, a bytes-like object or a number, not 'list'",
     "output_type": "error",
     "traceback": [
      "\u001b[1;31m---------------------------------------------------------------------------\u001b[0m",
      "\u001b[1;31mTypeError\u001b[0m                                 Traceback (most recent call last)",
      "\u001b[1;32mc:\\Python-workspace\\python-practice\\unit12_딕셔너리.ipynb Cell 11\u001b[0m line \u001b[0;36m5\n\u001b[0;32m      <a href='vscode-notebook-cell:/c%3A/Python-workspace/python-practice/unit12_%EB%94%95%EC%85%94%EB%84%88%EB%A6%AC.ipynb#X12sZmlsZQ%3D%3D?line=0'>1</a>\u001b[0m \u001b[39m# 입력: health health-regen mana mana_regen\u001b[39;00m\n\u001b[0;32m      <a href='vscode-notebook-cell:/c%3A/Python-workspace/python-practice/unit12_%EB%94%95%EC%85%94%EB%84%88%EB%A6%AC.ipynb#X12sZmlsZQ%3D%3D?line=1'>2</a>\u001b[0m \u001b[39m# 입력2: 575.6 1.7 338.8 1.63\u001b[39;00m\n\u001b[0;32m      <a href='vscode-notebook-cell:/c%3A/Python-workspace/python-practice/unit12_%EB%94%95%EC%85%94%EB%84%88%EB%A6%AC.ipynb#X12sZmlsZQ%3D%3D?line=3'>4</a>\u001b[0m x1 \u001b[39m=\u001b[39m \u001b[39minput\u001b[39m()\u001b[39m.\u001b[39msplit()\n\u001b[1;32m----> <a href='vscode-notebook-cell:/c%3A/Python-workspace/python-practice/unit12_%EB%94%95%EC%85%94%EB%84%88%EB%A6%AC.ipynb#X12sZmlsZQ%3D%3D?line=4'>5</a>\u001b[0m x2 \u001b[39m=\u001b[39m \u001b[39mint\u001b[39;49m(\u001b[39minput\u001b[39;49m()\u001b[39m.\u001b[39;49msplit())\n\u001b[0;32m      <a href='vscode-notebook-cell:/c%3A/Python-workspace/python-practice/unit12_%EB%94%95%EC%85%94%EB%84%88%EB%A6%AC.ipynb#X12sZmlsZQ%3D%3D?line=6'>7</a>\u001b[0m a \u001b[39m=\u001b[39m \u001b[39mdict\u001b[39m(\u001b[39mzip\u001b[39m(x1, x2))\n\u001b[0;32m      <a href='vscode-notebook-cell:/c%3A/Python-workspace/python-practice/unit12_%EB%94%95%EC%85%94%EB%84%88%EB%A6%AC.ipynb#X12sZmlsZQ%3D%3D?line=7'>8</a>\u001b[0m \u001b[39mprint\u001b[39m(a)\n",
      "\u001b[1;31mTypeError\u001b[0m: int() argument must be a string, a bytes-like object or a number, not 'list'"
     ]
    }
   ],
   "source": [
    "# 입력: health health-regen mana mana_regen\n",
    "# 입력2: 575.6 1.7 338.8 1.63\n",
    "\n",
    "x1 = input().split()\n",
    "x2 = list(map(int, input().split()))\n",
    "\n",
    "a = dict(zip(x1, x2))\n",
    "print(a)"
   ]
  },
  {
   "cell_type": "code",
   "execution_count": null,
   "metadata": {},
   "outputs": [],
   "source": []
  }
 ],
 "metadata": {
  "kernelspec": {
   "display_name": "Python 3",
   "language": "python",
   "name": "python3"
  },
  "language_info": {
   "codemirror_mode": {
    "name": "ipython",
    "version": 3
   },
   "file_extension": ".py",
   "mimetype": "text/x-python",
   "name": "python",
   "nbconvert_exporter": "python",
   "pygments_lexer": "ipython3",
   "version": "3.8.2"
  }
 },
 "nbformat": 4,
 "nbformat_minor": 2
}
