{
 "cells": [
  {
   "cell_type": "markdown",
   "metadata": {},
   "source": [
    "# 1. 변수 할당"
   ]
  },
  {
   "cell_type": "markdown",
   "metadata": {},
   "source": [
    "- 빈 변수 만들기"
   ]
  },
  {
   "cell_type": "code",
   "execution_count": 6,
   "metadata": {},
   "outputs": [
    {
     "name": "stdout",
     "output_type": "stream",
     "text": [
      "None\n"
     ]
    }
   ],
   "source": [
    "num = None\n",
    "print(num)"
   ]
  },
  {
   "cell_type": "markdown",
   "metadata": {},
   "source": [
    "- 변수 삭제"
   ]
  },
  {
   "cell_type": "code",
   "execution_count": 8,
   "metadata": {},
   "outputs": [
    {
     "ename": "NameError",
     "evalue": "name 'num' is not defined",
     "output_type": "error",
     "traceback": [
      "\u001b[1;31m---------------------------------------------------------------------------\u001b[0m",
      "\u001b[1;31mNameError\u001b[0m                                 Traceback (most recent call last)",
      "\u001b[1;32mc:\\python-workspace\\UNIT4\\unit6_변수.ipynb Cell 5\u001b[0m line \u001b[0;36m1\n\u001b[1;32m----> <a href='vscode-notebook-cell:/c%3A/python-workspace/UNIT4/unit6_%EB%B3%80%EC%88%98.ipynb#X22sZmlsZQ%3D%3D?line=0'>1</a>\u001b[0m \u001b[39mdel\u001b[39;00m num\n\u001b[0;32m      <a href='vscode-notebook-cell:/c%3A/python-workspace/UNIT4/unit6_%EB%B3%80%EC%88%98.ipynb#X22sZmlsZQ%3D%3D?line=1'>2</a>\u001b[0m \u001b[39mprint\u001b[39m(num)\n",
      "\u001b[1;31mNameError\u001b[0m: name 'num' is not defined"
     ]
    }
   ],
   "source": [
    "del num\n",
    "print(num)"
   ]
  },
  {
   "cell_type": "markdown",
   "metadata": {},
   "source": [
    "- 자주 보던 에러"
   ]
  },
  {
   "cell_type": "code",
   "execution_count": 1,
   "metadata": {},
   "outputs": [
    {
     "ename": "ValueError",
     "evalue": "not enough values to unpack (expected 3, got 2)",
     "output_type": "error",
     "traceback": [
      "\u001b[1;31m---------------------------------------------------------------------------\u001b[0m",
      "\u001b[1;31mValueError\u001b[0m                                Traceback (most recent call last)",
      "\u001b[1;32mc:\\python-workspace\\UNIT4\\unit6_변수.ipynb Cell 3\u001b[0m line \u001b[0;36m1\n\u001b[1;32m----> <a href='vscode-notebook-cell:/c%3A/python-workspace/UNIT4/unit6_%EB%B3%80%EC%88%98.ipynb#W0sZmlsZQ%3D%3D?line=0'>1</a>\u001b[0m x, y, z \u001b[39m=\u001b[39m \u001b[39m10\u001b[39m, \u001b[39m20\u001b[39m\n",
      "\u001b[1;31mValueError\u001b[0m: not enough values to unpack (expected 3, got 2)"
     ]
    }
   ],
   "source": [
    "x, y, z = 10, 20"
   ]
  },
  {
   "cell_type": "markdown",
   "metadata": {},
   "source": [
    "- 다양한 변수 할당법"
   ]
  },
  {
   "cell_type": "code",
   "execution_count": 1,
   "metadata": {},
   "outputs": [
    {
     "name": "stdout",
     "output_type": "stream",
     "text": [
      "20 10\n"
     ]
    }
   ],
   "source": [
    "x = y = z = 10      # 과연 주소가 같은 변수일까?\n",
    "x = 20\n",
    "print(x, y)         # 주소가 다르다."
   ]
  },
  {
   "cell_type": "markdown",
   "metadata": {},
   "source": [
    "# 2. 변수 계산"
   ]
  },
  {
   "cell_type": "markdown",
   "metadata": {},
   "source": [
    "- 변수 부호 붙이기"
   ]
  },
  {
   "cell_type": "code",
   "execution_count": 11,
   "metadata": {},
   "outputs": [
    {
     "name": "stdout",
     "output_type": "stream",
     "text": [
      "-10\n",
      "10\n"
     ]
    }
   ],
   "source": [
    "x = 10\n",
    "\n",
    "print(-x)\n",
    "print(+x)"
   ]
  },
  {
   "cell_type": "markdown",
   "metadata": {},
   "source": [
    "# 3. 변수 입력 받기"
   ]
  },
  {
   "cell_type": "markdown",
   "metadata": {},
   "source": [
    "- input 함수"
   ]
  },
  {
   "cell_type": "code",
   "execution_count": 13,
   "metadata": {},
   "outputs": [
    {
     "name": "stdout",
     "output_type": "stream",
     "text": [
      "안녕\n"
     ]
    }
   ],
   "source": [
    "x = input('입력하시오: ')\n",
    "print(x)"
   ]
  },
  {
   "cell_type": "markdown",
   "metadata": {},
   "source": [
    "- 두 정수의 합 구하기\n",
    "    - map(func, iterable)"
   ]
  },
  {
   "cell_type": "code",
   "execution_count": 28,
   "metadata": {},
   "outputs": [
    {
     "name": "stdout",
     "output_type": "stream",
     "text": [
      "3\n",
      "3\n",
      "3\n"
     ]
    }
   ],
   "source": [
    "# 방법1.\n",
    "x, y = input('정수 2개 입력: ').split()\n",
    "x, y = int(x), int(y)\n",
    "print(x + y)\n",
    "\n",
    "# 방법2. map(int, ...) 사용\n",
    "x, y = list(map(int, input('정수 2개 입력: ').split()))\n",
    "print(x + y)\n",
    "\n",
    "# 내가 떠올린 방법1.\n",
    "# x, y = int(input('정수 2개 입력: ')).split()  # 에러 발생\n",
    "\n",
    "# 내가 떠올린 방법2. list comprehension 사용\n",
    "x, y = [int(i) for i in input('정수 2개 입력: ').split()]\n",
    "print(x + y)\n"
   ]
  },
  {
   "cell_type": "markdown",
   "metadata": {},
   "source": [
    "- 국어, 영어, 수학, 과학 점수를 입력해 평균 점수를 출력하기"
   ]
  },
  {
   "cell_type": "code",
   "execution_count": 54,
   "metadata": {},
   "outputs": [
    {
     "name": "stdout",
     "output_type": "stream",
     "text": [
      "95\n"
     ]
    }
   ],
   "source": [
    "scores = list(map(int, input('국어, 영어, 수학, 과학 점수를 입력하시오: ').split(', ')))\n",
    "avg = sum(scores) // len(scores)\n",
    "print(avg)"
   ]
  },
  {
   "cell_type": "markdown",
   "metadata": {},
   "source": [
    "# 기타"
   ]
  },
  {
   "cell_type": "markdown",
   "metadata": {},
   "source": [
    "- 한글 변수명: 작동한다.. 너무 신기함"
   ]
  },
  {
   "cell_type": "code",
   "execution_count": null,
   "metadata": {},
   "outputs": [
    {
     "data": {
      "text/plain": [
       "30"
      ]
     },
     "metadata": {},
     "output_type": "display_data"
    }
   ],
   "source": [
    "변수1 = 10\n",
    "변수2 = 20\n",
    "변수1 + 변수2"
   ]
  },
  {
   "cell_type": "markdown",
   "metadata": {},
   "source": [
    "- 큰 숫자에 사용할 수 있는 콤마 대신 `_`"
   ]
  },
  {
   "cell_type": "code",
   "execution_count": 6,
   "metadata": {},
   "outputs": [
    {
     "data": {
      "text/plain": [
       "10000000"
      ]
     },
     "execution_count": 6,
     "metadata": {},
     "output_type": "execute_result"
    }
   ],
   "source": [
    "10_000_000      # 꼭 세 자리마다 구분하지 않아도 잘 돌아감"
   ]
  },
  {
   "cell_type": "markdown",
   "metadata": {},
   "source": [
    "- _(밑줄)에는 이전에 실행한 결과가 저장됨"
   ]
  },
  {
   "cell_type": "code",
   "execution_count": 8,
   "metadata": {},
   "outputs": [
    {
     "data": {
      "text/plain": [
       "10000000"
      ]
     },
     "execution_count": 8,
     "metadata": {},
     "output_type": "execute_result"
    }
   ],
   "source": [
    "_"
   ]
  },
  {
   "cell_type": "markdown",
   "metadata": {},
   "source": [
    "- \\r: 타자기에서 오른쪽으로 쭉 밀고(carriage return, CR) 개행(line feed, LF)하던 역사에서 비롯된 것으로, 각 OS에서의 개행 규칙은 다음과 같음.\n",
    "    - 윈도우즈: \\r\\n\n",
    "    - 리눅스: \\n\n",
    "    - Mac OS 9: \\r"
   ]
  },
  {
   "cell_type": "code",
   "execution_count": 14,
   "metadata": {},
   "outputs": [
    {
     "name": "stdout",
     "output_type": "stream",
     "text": [
      "하세요\n",
      "안녕\n",
      "하세요\n"
     ]
    }
   ],
   "source": [
    "print('안녕\\r하세요')       # \\r의 앞 내용은 출력 안 됨\n",
    "print('안녕\\r\\n하세요')"
   ]
  },
  {
   "cell_type": "markdown",
   "metadata": {},
   "source": [
    "# 기타: 변수 값이 저장되는 방식"
   ]
  },
  {
   "cell_type": "markdown",
   "metadata": {},
   "source": [
    "- 파이썬은 정수, 실수 등 값도 객체임"
   ]
  },
  {
   "cell_type": "code",
   "execution_count": 56,
   "metadata": {},
   "outputs": [
    {
     "name": "stdout",
     "output_type": "stream",
     "text": [
      "3\n",
      "3\n",
      "3\n",
      "False\n",
      "3\n",
      "3\n",
      "False\n"
     ]
    }
   ],
   "source": [
    "# 대화형 쉘에서 실행시\n",
    "\n",
    "a = 1000\n",
    "b = 1000\n",
    "\n",
    "import sys\n",
    "print(sys.getrefcount(1000))\n",
    "\n",
    "a = 1000\n",
    "print(sys.getrefcount(1000))\n",
    "b = 1000\n",
    "print(sys.getrefcount(1000))\n",
    "\n",
    "print(a is b)\n",
    "\n",
    "c = 1000.0\n",
    "print(sys.getrefcount(1000))\n",
    "print(sys.getrefcount(1000.0))\n",
    "print(a is c)"
   ]
  },
  {
   "cell_type": "markdown",
   "metadata": {},
   "source": [
    "책에서는 `.py` 스크립트 파일 실행시 `sys.getrefcount`를 호출할 때 `1000`이 사용되면서 레퍼런스 카운트가 증가하는데 내 건 안 된다. (버전은 3.11과 3.8 차이임.)   \n",
    "그리고 시간 간격을 두면 count 결과가 달라질까 싶어 5초 간격을 뒀지만 결과는 동일함.\n",
    "<br/>\n",
    "<br/>\n",
    "근데 어쨌든 같은 수를 가리키면 객체(=수)를 참조하는 것은 맞다.  \n",
    "추가로 `1000`과 `1000.0`는 다른 객체다."
   ]
  },
  {
   "cell_type": "code",
   "execution_count": 60,
   "metadata": {},
   "outputs": [
    {
     "name": "stdout",
     "output_type": "stream",
     "text": [
      "5\n",
      "5\n",
      "5\n",
      "True\n",
      "5\n",
      "4\n",
      "False\n"
     ]
    }
   ],
   "source": [
    "# 스크립트로 실행시\n",
    "!python unit6_get-ref-count.py"
   ]
  },
  {
   "cell_type": "markdown",
   "metadata": {},
   "source": [
    "유일한 차이가 있다면 스크립트에서 `is=True`인데 즉 같은 객체를 가리킨다.  \n",
    "근데 왜 셸에서는 다른 객체일까? 셸과 스크립트 실행 방식에 어떤 차이가 있는 걸까? 검색해봤는데 원하는 결과 안 나옴."
   ]
  },
  {
   "cell_type": "code",
   "execution_count": null,
   "metadata": {},
   "outputs": [],
   "source": []
  }
 ],
 "metadata": {
  "kernelspec": {
   "display_name": "Python 3",
   "language": "python",
   "name": "python3"
  },
  "language_info": {
   "codemirror_mode": {
    "name": "ipython",
    "version": 3
   },
   "file_extension": ".py",
   "mimetype": "text/x-python",
   "name": "python",
   "nbconvert_exporter": "python",
   "pygments_lexer": "ipython3",
   "version": "3.8.2"
  }
 },
 "nbformat": 4,
 "nbformat_minor": 2
}
